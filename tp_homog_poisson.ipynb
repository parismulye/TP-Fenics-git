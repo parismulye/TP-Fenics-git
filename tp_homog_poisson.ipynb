{
 "cells": [
  {
   "cell_type": "code",
   "execution_count": 1,
   "metadata": {},
   "outputs": [],
   "source": [
    "%matplotlib inline\n",
    "import numpy as np\n",
    "import matplotlib.pyplot as plt\n",
    "from   dolfin import *\n",
    "from   MyMods import FilePrep as fpr\n",
    "from   MyMods import CustomBC as cbc\n",
    "from   MyMods import CustomPropertyAssign as cpa"
   ]
  },
  {
   "cell_type": "markdown",
   "metadata": {},
   "source": [
    "We begin by importing some useful standard modules such as Numpy and Matplotlib.\n",
    "The entirety of FEniCS modules is imported by giving\n",
    "```python \n",
    "from dolfin import *\n",
    "```\n",
    "Furthermore, we must import some custom modules that were created for this course.\n",
    "- `FilePrep` handles file conversions and exportation\n",
    "- `CustomBC` provides some methods for easy assignment of boundary conditions\n",
    "- `CustomPropertyAssign` provides some methods to assign different properties to different subdomains"
   ]
  },
  {
   "cell_type": "markdown",
   "metadata": {},
   "source": [
    "### The script:"
   ]
  },
  {
   "cell_type": "code",
   "execution_count": 2,
   "metadata": {},
   "outputs": [
    {
     "ename": "RuntimeError",
     "evalue": "\n\n*** -------------------------------------------------------------------------\n*** DOLFIN encountered an error. If you are not able to resolve this issue\n*** using the information listed below, you can ask for help at\n***\n***     fenics-support@googlegroups.com\n***\n*** Remember to include the error message listed below and, if possible,\n*** include a *minimal* running example to reproduce the error.\n***\n*** -------------------------------------------------------------------------\n*** Error:   Unable to read data from XML file.\n*** Reason:  Unable to open file \"corner_central_inclusion.xml\".\n*** Where:   This error was encountered inside XMLFile.cpp.\n*** Process: 0\n*** \n*** DOLFIN version: 2019.1.0\n*** Git changeset:  \n*** -------------------------------------------------------------------------\n",
     "output_type": "error",
     "traceback": [
      "\u001b[0;31m---------------------------------------------------------------------------\u001b[0m",
      "\u001b[0;31mRuntimeError\u001b[0m                              Traceback (most recent call last)",
      "\u001b[0;32m<ipython-input-2-8b0dffa97065>\u001b[0m in \u001b[0;36m<module>\u001b[0;34m\u001b[0m\n\u001b[1;32m      1\u001b[0m \u001b[0;31m#fname       = fpr.OpenGMSHGeom()\u001b[0m\u001b[0;34m\u001b[0m\u001b[0;34m\u001b[0m\u001b[0;34m\u001b[0m\u001b[0m\n\u001b[1;32m      2\u001b[0m \u001b[0mfname\u001b[0m \u001b[0;34m=\u001b[0m \u001b[0;34m'corner_central_inclusion'\u001b[0m\u001b[0;34m\u001b[0m\u001b[0;34m\u001b[0m\u001b[0m\n\u001b[0;32m----> 3\u001b[0;31m \u001b[0mmesh\u001b[0m        \u001b[0;34m=\u001b[0m \u001b[0mMesh\u001b[0m\u001b[0;34m(\u001b[0m\u001b[0mfname\u001b[0m \u001b[0;34m+\u001b[0m \u001b[0;34m\".xml\"\u001b[0m\u001b[0;34m)\u001b[0m\u001b[0;34m\u001b[0m\u001b[0;34m\u001b[0m\u001b[0m\n\u001b[0m\u001b[1;32m      4\u001b[0m \u001b[0msubdomains\u001b[0m  \u001b[0;34m=\u001b[0m \u001b[0mMeshFunction\u001b[0m\u001b[0;34m(\u001b[0m\u001b[0;34m\"size_t\"\u001b[0m\u001b[0;34m,\u001b[0m \u001b[0mmesh\u001b[0m\u001b[0;34m,\u001b[0m \u001b[0mfname\u001b[0m \u001b[0;34m+\u001b[0m \u001b[0;34m\"_physical_region.xml\"\u001b[0m\u001b[0;34m)\u001b[0m\u001b[0;34m\u001b[0m\u001b[0;34m\u001b[0m\u001b[0m\n\u001b[1;32m      5\u001b[0m \u001b[0mboundaries\u001b[0m  \u001b[0;34m=\u001b[0m \u001b[0mMeshFunction\u001b[0m\u001b[0;34m(\u001b[0m\u001b[0;34m\"size_t\"\u001b[0m\u001b[0;34m,\u001b[0m \u001b[0mmesh\u001b[0m\u001b[0;34m,\u001b[0m \u001b[0mfname\u001b[0m \u001b[0;34m+\u001b[0m \u001b[0;34m\"_facet_region.xml\"\u001b[0m\u001b[0;34m)\u001b[0m\u001b[0;34m\u001b[0m\u001b[0;34m\u001b[0m\u001b[0m\n",
      "\u001b[0;31mRuntimeError\u001b[0m: \n\n*** -------------------------------------------------------------------------\n*** DOLFIN encountered an error. If you are not able to resolve this issue\n*** using the information listed below, you can ask for help at\n***\n***     fenics-support@googlegroups.com\n***\n*** Remember to include the error message listed below and, if possible,\n*** include a *minimal* running example to reproduce the error.\n***\n*** -------------------------------------------------------------------------\n*** Error:   Unable to read data from XML file.\n*** Reason:  Unable to open file \"corner_central_inclusion.xml\".\n*** Where:   This error was encountered inside XMLFile.cpp.\n*** Process: 0\n*** \n*** DOLFIN version: 2019.1.0\n*** Git changeset:  \n*** -------------------------------------------------------------------------\n"
     ]
    }
   ],
   "source": [
    "#fname       = fpr.OpenGMSHGeom()\n",
    "fname = 'corner_central_inclusion'\n",
    "mesh        = Mesh(fname + \".xml\")\n",
    "subdomains  = MeshFunction(\"size_t\", mesh, fname + \"_physical_region.xml\")      \n",
    "boundaries  = MeshFunction(\"size_t\", mesh, fname + \"_facet_region.xml\")\n",
    "ds          = Measure('ds', domain=mesh, subdomain_data=boundaries)\n",
    "dx          = Measure('dx', domain=mesh, subdomain_data=subdomains)\n",
    "volume      = 1"
   ]
  },
  {
   "cell_type": "markdown",
   "metadata": {},
   "source": [
    "To load a geometry, we call the function `OpenGMSHGeom()`. This function contains a call to a graphical file explorer that allows to select a '.geo' file. Once the selection is done, the function takes care of sending the command to mesh the geometry using Gmsh, and converting the data to subdomains and boundaries information. All mesh files are stored in a subfolder named 'mesh_files'.\n",
    "The `Measure` class is called to create integration partitions. We create the differential `ds` for the boundaries and `dx` for the elements surface. We also state that the domain \"volume\" is unitary.\n",
    "\n",
    "We can plot the mesh to see the subdomains:"
   ]
  },
  {
   "cell_type": "code",
   "execution_count": null,
   "metadata": {},
   "outputs": [],
   "source": [
    "plt.figure(1)\n",
    "plot(mesh, linewidth=0.5, color='black')\n",
    "p = plot(subdomains, title='Subdomains')\n",
    "plt.colorbar(p)"
   ]
  },
  {
   "cell_type": "markdown",
   "metadata": {},
   "source": [
    "As can be observed from the colorbar, the center inclusion is assigned ID=1, the remaining subdomain has ID=0"
   ]
  },
  {
   "cell_type": "code",
   "execution_count": null,
   "metadata": {},
   "outputs": [],
   "source": [
    "k_values    = [10, 50, 1]\n",
    "k           = cpa.AssignSubPropertiesScalar(mesh, subdomains, k_values)"
   ]
  },
  {
   "cell_type": "markdown",
   "metadata": {},
   "source": [
    "We assign the material parameter $k$ to the subdomains. The assignment is made by creating a Numpy array where the value $i$ will be assigned to the subdomain $i$.\n",
    "Once the values have been entered, they are assigned to the mesh elements using the function `AssignSubPropertiesScalar(mesh, subdomains, k_values)`"
   ]
  },
  {
   "cell_type": "markdown",
   "metadata": {},
   "source": [
    "The weak formulation of Poisson's equation elasticity reads:\n",
    "\n",
    "\\begin{equation}\n",
    "\\int_{\\Omega} k \\nabla u \\cdot \\nabla v \\: dx = \\int_{\\Omega} f \\cdot v \\: dx\n",
    "\\end{equation}\n",
    "\n",
    "Which is often expressed as:\n",
    "\n",
    "\\begin{equation}\n",
    "a(u,v) = L(v)\n",
    "\\end{equation}"
   ]
  },
  {
   "cell_type": "markdown",
   "metadata": {},
   "source": [
    "The solution we seek, $u$, is a scalar field, so we create a suitable function space. In this function space we use some Dolfin classes to create the trial function $u$ and the test function $v$."
   ]
  },
  {
   "cell_type": "code",
   "execution_count": null,
   "metadata": {},
   "outputs": [],
   "source": [
    "V           = FunctionSpace(mesh, 'P', 1)\n",
    "u           = TrialFunction(V)\n",
    "v           = TestFunction(V)"
   ]
  },
  {
   "cell_type": "markdown",
   "metadata": {},
   "source": [
    "### Left hand side: $a(u,v)$\n",
    "\n",
    "The left hand side of the weak form equation becomes simply:"
   ]
  },
  {
   "cell_type": "code",
   "execution_count": null,
   "metadata": {},
   "outputs": [],
   "source": [
    "a = k*dot(grad(u), grad(v))*dx"
   ]
  },
  {
   "cell_type": "markdown",
   "metadata": {},
   "source": [
    "### Right hand side: $L(v)$\n",
    "We can define and a source term $f$ acting on the volume (in this example, $f=0$):"
   ]
  },
  {
   "cell_type": "code",
   "execution_count": null,
   "metadata": {},
   "outputs": [],
   "source": [
    "f = Constant(0.0)\n",
    "L = f*v*dx"
   ]
  },
  {
   "cell_type": "markdown",
   "metadata": {},
   "source": [
    "### Boundary conditions\n",
    "We create a list named `bcs`, where we will store all the Dirichlet boundary conditions. Each Dirchlet BC is created as an istance of the class `DirichletBC()`."
   ]
  },
  {
   "cell_type": "code",
   "execution_count": null,
   "metadata": {},
   "outputs": [],
   "source": [
    "bcs = [DirichletBC(V, 0.0, boundaries, 1),                                      \n",
    "       DirichletBC(V, 1.0, boundaries, 3)]"
   ]
  },
  {
   "cell_type": "markdown",
   "metadata": {},
   "source": [
    "<img src=\"BC_scheme.PNG\" alt=\"Drawing\" style=\"width: 200px;\" align=\"right\" />\n",
    "\n",
    "\n",
    "The second argument expresses the value of $u$ assigned. The third and fourth arguments specify the subdomain where the condition is applied. In this case, $u=0$ is imposed on the left edge (`boundaries, 1`), and $u=1$ is imposed on the right edge (`boundaries, 3`)."
   ]
  },
  {
   "cell_type": "markdown",
   "metadata": {},
   "source": [
    "### Solution\n",
    "We are now ready to solve the problem. We simply call the FEnicS function `solve`:"
   ]
  },
  {
   "cell_type": "code",
   "execution_count": null,
   "metadata": {},
   "outputs": [],
   "source": [
    "u = Function(V)\n",
    "solve(a == L, u, bcs)"
   ]
  },
  {
   "cell_type": "markdown",
   "metadata": {},
   "source": [
    "### Plotting:\n",
    "Plotting the solution is accomplished by calling the `plot`function of FEniCS."
   ]
  },
  {
   "cell_type": "code",
   "execution_count": null,
   "metadata": {},
   "outputs": [],
   "source": [
    "plt.figure(2)\n",
    "p = plot(u, title='Solution U')\n",
    "plt.colorbar(p)"
   ]
  }
 ],
 "metadata": {
  "kernelspec": {
   "display_name": "Python 3",
   "language": "python",
   "name": "python3"
  },
  "language_info": {
   "codemirror_mode": {
    "name": "ipython",
    "version": 3
   },
   "file_extension": ".py",
   "mimetype": "text/x-python",
   "name": "python",
   "nbconvert_exporter": "python",
   "pygments_lexer": "ipython3",
   "version": "3.8.1"
  }
 },
 "nbformat": 4,
 "nbformat_minor": 4
}
