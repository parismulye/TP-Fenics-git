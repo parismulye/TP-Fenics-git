{
 "cells": [
  {
   "cell_type": "code",
   "execution_count": null,
   "metadata": {},
   "outputs": [],
   "source": [
    "%matplotlib inline\n",
    "import numpy as np\n",
    "import matplotlib.pyplot as plt\n",
    "from   dolfin import *\n",
    "from   MyMods import FilePrep as fpr\n",
    "from   MyMods import CustomBC as cbc\n",
    "from   MyMods import CustomPropertyAssign as cpa"
   ]
  },
  {
   "cell_type": "code",
   "execution_count": null,
   "metadata": {},
   "outputs": [],
   "source": []
  },
  {
   "cell_type": "markdown",
   "metadata": {},
   "source": [
    "We begin by importing some useful standard modules such as Numpy and Matplotlib.\n",
    "The entirety of FEniCS modules is imported by giving\n",
    "```python \n",
    "from dolfin import *\n",
    "```\n",
    "Furthermore, we must import some custom modules that were created for this course.\n",
    "- `FilePrep` handles file conversions and exportation\n",
    "- `CustomBC` provides some methods for easy assignment of boundary conditions\n",
    "- `CustomPropertyAssign` provides some methods to assign different properties to different subdomains"
   ]
  },
  {
   "cell_type": "markdown",
   "metadata": {},
   "source": [
    "### The script:"
   ]
  },
  {
   "cell_type": "code",
   "execution_count": null,
   "metadata": {},
   "outputs": [],
   "source": [
    "fname       = fpr.OpenGMSHGeom()\n",
    "mesh        = Mesh(fname + \".xml\")\n",
    "subdomains  = MeshFunction(\"size_t\", mesh, fname + \"_physical_region.xml\")      \n",
    "boundaries  = MeshFunction(\"size_t\", mesh, fname + \"_facet_region.xml\")\n",
    "ds          = Measure('ds', domain=mesh, subdomain_data=boundaries)\n",
    "dx          = Measure('dx', domain=mesh, subdomain_data=subdomains)\n",
    "volume      = 1"
   ]
  },
  {
   "cell_type": "markdown",
   "metadata": {},
   "source": [
    "To load a geometry, we call the function `OpenGMSHGeom()`. This function contains a call to a graphical file explorer that allows to select a '.geo' file. Once the selection is done, the function takes care of sending the command to mesh the geometry using Gmsh, and converting the data to subdomains and boundaries information. All mesh files are stored in a subfolder named 'mesh_files'.\n",
    "The `Measure` class is called to create integration partitions. We create the differential `ds` for the boundaries and `dx` for the elements surface. We also state that the domain \"volume\" is unitary.\n",
    "\n",
    "We can plot the mesh to see the subdomains:"
   ]
  },
  {
   "cell_type": "code",
   "execution_count": null,
   "metadata": {},
   "outputs": [],
   "source": [
    "plt.figure(1)\n",
    "plot(mesh, linewidth=0.5, color='black')\n",
    "p = plot(subdomains, title='Subdomains')\n",
    "plt.colorbar(p)"
   ]
  },
  {
   "cell_type": "markdown",
   "metadata": {},
   "source": [
    "As can be observed from the colorbar, the center inclusion is assigned ID=1, the remaining subdomain has ID=0"
   ]
  },
  {
   "cell_type": "code",
   "execution_count": null,
   "metadata": {
    "scrolled": false
   },
   "outputs": [],
   "source": [
    "E           = np.array([10000, 100000])                                         \n",
    "nu          = np.array([0.45, 0.3])\n",
    "lmbda, mu   = cpa.AssignSubPropertiesLame(mesh, subdomains, E, nu)"
   ]
  },
  {
   "cell_type": "markdown",
   "metadata": {},
   "source": [
    "We assign material parameters to the subdomains: Young's Modulus (E) and Poisson's coefficient ($\\nu$).\n",
    "The assignment is made by creating a Numpy array where the value $i$ will be assigned to the subdomain $i$.\n",
    "Once the values have been entered, they are transformed into Lamé constants and assigned to the mesh elements using the function `AssignSubPropertiesLame(mesh, subdomains, E, nu)`"
   ]
  },
  {
   "cell_type": "markdown",
   "metadata": {},
   "source": [
    "The weak formulation of linear elasticity reads:\n",
    "\n",
    "\\begin{equation}\n",
    "\\int_{\\Omega} \\sigma(u) : \\varepsilon(v) \\: dx = \\int_{\\Omega} f \\cdot v \\: dx + \\int_{\\partial \\Omega} t \\cdot v \\: ds\n",
    "\\end{equation}\n",
    "\n",
    "Which is often expressed as:\n",
    "\n",
    "\\begin{equation}\n",
    "a(u,v) = L(v)\n",
    "\\end{equation}"
   ]
  },
  {
   "cell_type": "markdown",
   "metadata": {},
   "source": [
    "The solution we seek, $u$, is vector valued, so we create a suitable function space. In this function space we use some Dolfin classes to create the trial function $u$ and the test function $v$."
   ]
  },
  {
   "cell_type": "code",
   "execution_count": null,
   "metadata": {},
   "outputs": [],
   "source": [
    "Ve          = VectorElement(\"CG\", mesh.ufl_cell(), 2)\n",
    "V           = FunctionSpace(mesh, Ve)\n",
    "u           = TrialFunction(V)\n",
    "v           = TestFunction(V)"
   ]
  },
  {
   "cell_type": "markdown",
   "metadata": {},
   "source": [
    "If we wish to assign periodic boundary conditiond on this domain, we have to declare it now. For ease of use, two custom classes were created for this purpose:\n",
    "\n",
    "- `cbc.Periodic_TB()` to create a mapping from the bottom to the top edges\n",
    "- `cbc.Periodic_LR()` to create a mapping from the left to the right edges\n",
    "\n",
    "These classes can be simply passed as arguments to the `FunctionSpace` class. Then in the previous block line 2 would become:\n",
    "\n",
    "```python\n",
    "V = FunctionSpace(mesh, Ve, constrained_domain=cbc.Periodic_TB())```"
   ]
  },
  {
   "cell_type": "markdown",
   "metadata": {},
   "source": [
    "### Left hand side: $a(u,v)$\n",
    "Let's define $\\varepsilon$ and the $\\sigma$ using Hooke's Law:\n",
    "\n",
    "\\begin{equation}\n",
    "\\varepsilon = \\frac{1}{2}(\\nabla u + \\nabla^T u)\n",
    "\\end{equation}\n",
    "\n",
    "\\begin{equation}\n",
    "\\sigma = \\lambda tr(\\varepsilon)I+ 2 \\mu \\varepsilon\n",
    "\\end{equation}"
   ]
  },
  {
   "cell_type": "code",
   "execution_count": null,
   "metadata": {},
   "outputs": [],
   "source": [
    "def epsilon(u):\n",
    "    return sym(grad(u))\n",
    "\n",
    "def sigma(u):\n",
    "    return lmbda*tr(epsilon(u))*Identity(2) + 2*mu*epsilon(u)"
   ]
  },
  {
   "cell_type": "markdown",
   "metadata": {},
   "source": [
    "The left hand side of the weak form equation becomes simply:"
   ]
  },
  {
   "cell_type": "code",
   "execution_count": null,
   "metadata": {},
   "outputs": [],
   "source": [
    "a = inner(sigma(u), epsilon(v))*dx"
   ]
  },
  {
   "cell_type": "markdown",
   "metadata": {},
   "source": [
    "### Right hand side: $L(v)$\n",
    "We can define and a body force $f$ acting on the volume (first term):"
   ]
  },
  {
   "cell_type": "code",
   "execution_count": null,
   "metadata": {},
   "outputs": [],
   "source": [
    "f = Constant([0.0,0.0])\n",
    "l_body = dot(f, v)*dx"
   ]
  },
  {
   "cell_type": "markdown",
   "metadata": {},
   "source": [
    "Similarly we can define a uniformly distributed traction vector $t$ acting on an edge (second term). In this example, by specifying `ds(3)` we are telling FEniCS that the traction vector is acting on the boundary with ID=3 (in this case, right edge because we are following the scheme displayed)."
   ]
  },
  {
   "cell_type": "code",
   "execution_count": null,
   "metadata": {},
   "outputs": [],
   "source": [
    "t = Constant((0.0, 0.0))                                                       \n",
    "l_bound = dot(t, v)*ds(3)"
   ]
  },
  {
   "cell_type": "markdown",
   "metadata": {},
   "source": [
    "Finally, the right hand sides of the weak formulation of our differential equation becomes simply:"
   ]
  },
  {
   "cell_type": "code",
   "execution_count": null,
   "metadata": {},
   "outputs": [],
   "source": [
    "L = l_body + l_bound"
   ]
  },
  {
   "cell_type": "markdown",
   "metadata": {},
   "source": [
    "### Boundary conditions\n",
    "We create a list named `bcs`, where we will store all the Dirichlet boundary conditions. Each Dirchlet BC is created as an istance of the class `DirichletBC()`."
   ]
  },
  {
   "cell_type": "code",
   "execution_count": null,
   "metadata": {},
   "outputs": [],
   "source": [
    "bcs = [DirichletBC(V.sub(0), Constant(0), boundaries, 1),\n",
    "       DirichletBC(V.sub(0), Constant(0.2), boundaries, 3),\n",
    "       DirichletBC(V, Constant((0,0)), cbc.bot_left_vertex, method='pointwise')]"
   ]
  },
  {
   "cell_type": "markdown",
   "metadata": {},
   "source": [
    "<img src=\"bc_scheme.png\" alt=\"Drawing\" style=\"width: 300px;\" align=\"right\" />\n",
    "\n",
    "\n",
    "The argument `V.sub(0)` in this case indicates that the condition is assigned only in the direction $x$ to the nodes. The second argument expresses the value of $u$ assigned. The third and fourth arguments specify the subdomain where the condition is applied. In this case, $u_x=0$ is imposed on the left edge (`boundaries, 1`), and $u_x=0.1$ is imposed on the right edge (`boundaries, 3`).\n",
    "\n",
    "\n",
    "Furthermore, to make the problem isostatic, we will fix one node at the corner, where we impose $u_x, u_y=0$.\n",
    "This can be convieniently done by using some custom-made functions which return the subdomain corresponding to the single node in the name. The node they localize is quite self-explainatory:\n",
    "\n",
    "- `bot_left_vertex`\n",
    "- `bot_right_vertex`\n",
    "- `top_right_vertex`\n",
    "- `top_left_vertex`"
   ]
  },
  {
   "cell_type": "markdown",
   "metadata": {},
   "source": [
    "### Solution\n",
    "We are now ready to solve the problem. We simply call the FEnicS function `solve`:"
   ]
  },
  {
   "cell_type": "code",
   "execution_count": null,
   "metadata": {},
   "outputs": [],
   "source": [
    "u = Function(V)\n",
    "solve(a == L, u, bcs)"
   ]
  },
  {
   "cell_type": "markdown",
   "metadata": {},
   "source": [
    "### Post processing:\n",
    "Now that we have the solution $u$, we can compute $\\varepsilon(u)$ and $\\sigma(u)$ using the functions we had defined before. We do that in Voigt notation for easyness of reading.\n",
    "\n",
    "We also compute the volume averaged version of these tensors, which will be useful if we wish to perform some homogenization calculations later on."
   ]
  },
  {
   "cell_type": "code",
   "execution_count": null,
   "metadata": {},
   "outputs": [],
   "source": [
    "def Tensor2Voigt(s):\n",
    "    return as_vector([s[0,0], s[1,1], s[0,1]])\n",
    "\n",
    "sigma_voigt = Tensor2Voigt(sigma(u))\n",
    "eps_voigt   = Tensor2Voigt(epsilon(u))\n",
    "\n",
    "Sigma_avg   = np.zeros((3,))\n",
    "Eps_avg     = np.zeros((3,))\n",
    "for k in range(3):\n",
    "    Sigma_avg[k]    = assemble(sum([sigma_voigt[k]*dx]))/volume\n",
    "    Eps_avg[k]      = assemble(sum([eps_voigt[k]*dx]))/volume\n",
    "    \n",
    "print('Average stress in Voigt notation:', Sigma_avg)\n",
    "print('Average strain in Voigt notation:', Eps_avg)"
   ]
  },
  {
   "cell_type": "markdown",
   "metadata": {},
   "source": [
    "### Plotting:\n",
    "We plot the solution just for a quick visualization of what the results gave. That's because we will export the results in Paraview format, for a better visualization of the quantities.\n",
    "\n",
    "This is done by calling the custom function `ExportToParaview(fname, mesh, u, kwargs)`.\n",
    "\n",
    "Remark: the first three agruments of this function must always be `fname, mesh, u`. Afterwards we can give more fields as a dictionary with the structure: `NAME(str)=field_name`."
   ]
  },
  {
   "cell_type": "code",
   "execution_count": null,
   "metadata": {
    "scrolled": true
   },
   "outputs": [],
   "source": [
    "plt.figure(2)\n",
    "p = plot(u, mode='displacement', title='Displacement U')\n",
    "plt.colorbar(p)\n",
    "\n",
    "fpr.ExportToParaview(fname, mesh, u, Sigma=sigma_voigt, Strain=eps_voigt)"
   ]
  }
 ],
 "metadata": {
  "kernelspec": {
   "display_name": "Python 3.10.6 64-bit",
   "language": "python",
   "name": "python3"
  },
  "language_info": {
   "codemirror_mode": {
    "name": "ipython",
    "version": 3
   },
   "file_extension": ".py",
   "mimetype": "text/x-python",
   "name": "python",
   "nbconvert_exporter": "python",
   "pygments_lexer": "ipython3",
   "version": "3.10.6"
  },
  "vscode": {
   "interpreter": {
    "hash": "e7370f93d1d0cde622a1f8e1c04877d8463912d04d973331ad4851f04de6915a"
   }
  }
 },
 "nbformat": 4,
 "nbformat_minor": 4
}
